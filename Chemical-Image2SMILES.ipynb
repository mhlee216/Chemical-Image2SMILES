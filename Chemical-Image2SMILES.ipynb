{
 "cells": [
  {
   "cell_type": "markdown",
   "metadata": {},
   "source": [
    "# Chemical-Image2SMILES\n",
    "#### Method\n",
    ": Image => Skeleton => Graph => Mol => SMILES"
   ]
  },
  {
   "cell_type": "markdown",
   "metadata": {},
   "source": [
    "## Problems\n",
    "Skeleton => Graph\n",
    "\n",
    "- Difficult to make nodes to vertices from skeleton\n",
    "- Difficult to know what symbols of atoms from nodes are\n",
    "- Difficult to recognize other than single bonds"
   ]
  },
  {
   "cell_type": "markdown",
   "metadata": {},
   "source": [
    "#### Therefore, I just only suggest an idea with a simple example."
   ]
  },
  {
   "cell_type": "code",
   "execution_count": 1,
   "metadata": {},
   "outputs": [],
   "source": [
    "import PIL.Image as pilimg\n",
    "import numpy as np\n",
    "import networkx as nx\n",
    "import matplotlib.pyplot as plt\n",
    "from skimage.morphology import skeletonize\n",
    "from skimage import color\n",
    "import sknw\n",
    "import warnings\n",
    "from rdkit import Chem\n",
    "warnings.filterwarnings('ignore')"
   ]
  },
  {
   "cell_type": "code",
   "execution_count": 2,
   "metadata": {},
   "outputs": [
    {
     "data": {
      "text/plain": [
       "<matplotlib.image.AxesImage at 0x2abbe4ee0860>"
      ]
     },
     "execution_count": 2,
     "metadata": {},
     "output_type": "execute_result"
    },
    {
     "data": {
      "image/png": "[encoded data removed]",
      "text/plain": [
       "<Figure size 432x288 with 1 Axes>"
      ]
     },
     "metadata": {
      "needs_background": "light"
     },
     "output_type": "display_data"
    }
   ],
   "source": [
    "# open and skeletonize\n",
    "img = pilimg.open('Isobutane_300.png')\n",
    "plt.title('Image')\n",
    "plt.axis('off')\n",
    "plt.imshow(img, cmap='gray')"
   ]
  },
  {
   "cell_type": "code",
   "execution_count": 3,
   "metadata": {},
   "outputs": [
    {
     "data": {
      "image/png": "[encoded data removed]",
      "text/plain": [
       "<Figure size 432x288 with 1 Axes>"
      ]
     },
     "metadata": {
      "needs_background": "light"
     },
     "output_type": "display_data"
    }
   ],
   "source": [
    "# open and skeletonize\n",
    "img = pilimg.open('Isobutane_300.png')\n",
    "\n",
    "img = np.array(img)\n",
    "img = np.where(img>np.mean(img),1.0,0.0)\n",
    "img = color.rgb2gray(img)\n",
    "ske = skeletonize(img).astype(np.uint16)\n",
    "\n",
    "# build graph from skeleton\n",
    "graph = sknw.build_sknw(ske)\n",
    "\n",
    "# draw image\n",
    "plt.imshow(img, cmap='gray')\n",
    "\n",
    "for (s,e) in graph.edges():\n",
    "    ps = graph[s][e]['pts']\n",
    "    plt.plot(ps[:,1], ps[:,0], 'skyblue')\n",
    "    \n",
    "# draw node by o\n",
    "nodes = graph.nodes()\n",
    "ps = np.array([nodes[i]['o'] for i in nodes])\n",
    "plt.plot(ps[:,1], ps[:,0], 'r.', markersize=20, c='blue')\n",
    "\n",
    "# title and show\n",
    "plt.axis('off')\n",
    "plt.title('Graph')\n",
    "plt.show()"
   ]
  },
  {
   "cell_type": "code",
   "execution_count": 4,
   "metadata": {},
   "outputs": [
    {
     "data": {
      "text/plain": [
       "NodeView((0, 1, 2, 3))"
      ]
     },
     "execution_count": 4,
     "metadata": {},
     "output_type": "execute_result"
    }
   ],
   "source": [
    "# Nodes (Carbon)\n",
    "graph.nodes"
   ]
  },
  {
   "cell_type": "code",
   "execution_count": 5,
   "metadata": {},
   "outputs": [
    {
     "data": {
      "text/plain": [
       "EdgeView([(0, 2), (1, 2), (2, 3)])"
      ]
     },
     "execution_count": 5,
     "metadata": {},
     "output_type": "execute_result"
    }
   ],
   "source": [
    "# Edge\n",
    "graph.edges"
   ]
  },
  {
   "cell_type": "code",
   "execution_count": 6,
   "metadata": {},
   "outputs": [
    {
     "data": {
      "text/plain": [
       "array([[1., 0., 1., 0.],\n",
       "       [0., 1., 1., 0.],\n",
       "       [1., 1., 1., 1.],\n",
       "       [0., 0., 1., 1.]])"
      ]
     },
     "execution_count": 6,
     "metadata": {},
     "output_type": "execute_result"
    }
   ],
   "source": [
    "# Adjacency\n",
    "size = len(set([n for e in graph.edges for n in e])) \n",
    "adjacency = [[0]*size for _ in range(size)]\n",
    "for sink, source in graph.edges:\n",
    "    adjacency[int(sink)][int(source)] = 1\n",
    "    adjacency[int(source)][int(sink)] = 1\n",
    "\n",
    "adjacency = np.array(adjacency) + np.eye(size)\n",
    "adjacency"
   ]
  },
  {
   "cell_type": "code",
   "execution_count": 7,
   "metadata": {},
   "outputs": [],
   "source": [
    "def MolFromGraphs(node_list, adjacency_matrix):\n",
    "\n",
    "    # create empty editable mol object\n",
    "    mol = Chem.RWMol()\n",
    "\n",
    "    # add atoms to mol and keep track of index\n",
    "    node_to_idx = {}\n",
    "    for i in range(len(node_list)):\n",
    "        a = Chem.Atom(node_list[i])\n",
    "        molIdx = mol.AddAtom(a)\n",
    "        node_to_idx[i] = molIdx\n",
    "\n",
    "    # add bonds between adjacent atoms\n",
    "    for ix, row in enumerate(adjacency_matrix):\n",
    "        for iy, bond in enumerate(row):\n",
    "\n",
    "            # only traverse half the matrix\n",
    "            if iy <= ix:\n",
    "                continue\n",
    "\n",
    "            # add relevant bond type (there are many more of these)\n",
    "            if bond == 0:\n",
    "                continue\n",
    "            elif bond == 1:\n",
    "                bond_type = Chem.rdchem.BondType.SINGLE\n",
    "                mol.AddBond(node_to_idx[ix], node_to_idx[iy], bond_type)\n",
    "            elif bond == 2:\n",
    "                bond_type = Chem.rdchem.BondType.DOUBLE\n",
    "                mol.AddBond(node_to_idx[ix], node_to_idx[iy], bond_type)\n",
    "\n",
    "    # Convert RWMol to Mol object\n",
    "    mol = mol.GetMol()            \n",
    "\n",
    "    return mol"
   ]
  },
  {
   "cell_type": "code",
   "execution_count": 8,
   "metadata": {},
   "outputs": [
    {
     "data": {
      "image/png": "[encoded data removed]",
      "text/plain": [
       "<rdkit.Chem.rdchem.Mol at 0x2abbe61c6580>"
      ]
     },
     "execution_count": 8,
     "metadata": {},
     "output_type": "execute_result"
    }
   ],
   "source": [
    "mol = MolFromGraphs(['C' for i in range(size)], adjacency)\n",
    "mol"
   ]
  },
  {
   "cell_type": "code",
   "execution_count": 9,
   "metadata": {},
   "outputs": [
    {
     "data": {
      "text/plain": [
       "'CC(C)C'"
      ]
     },
     "execution_count": 9,
     "metadata": {},
     "output_type": "execute_result"
    }
   ],
   "source": [
    "Chem.MolToSmiles(mol)"
   ]
  }
 ],
 "metadata": {
  "kernelspec": {
   "display_name": "Python 3",
   "language": "python",
   "name": "python3"
  },
  "language_info": {
   "codemirror_mode": {
    "name": "ipython",
    "version": 3
   },
   "file_extension": ".py",
   "mimetype": "text/x-python",
   "name": "python",
   "nbconvert_exporter": "python",
   "pygments_lexer": "ipython3",
   "version": "3.6.12"
  }
 },
 "nbformat": 4,
 "nbformat_minor": 4
}
